{
 "cells": [
  {
   "cell_type": "code",
   "execution_count": 4,
   "id": "34fcf0b8",
   "metadata": {},
   "outputs": [],
   "source": [
    "from multiprocess import Process\n",
    "import time\n",
    "import threading"
   ]
  },
  {
   "cell_type": "markdown",
   "id": "02fd7c53-8983-483e-8bc2-1945eca9be54",
   "metadata": {},
   "source": [
    "**NOTE:** you need to install the <code>multiprocess</code> module for this to work exactly like the video (pip install multiprocess)"
   ]
  },
  {
   "cell_type": "markdown",
   "id": "b9bc0c6f",
   "metadata": {},
   "source": [
    "## Processes"
   ]
  },
  {
   "cell_type": "code",
   "execution_count": 5,
   "id": "45277218-5b20-439c-9766-b76dd06e95ef",
   "metadata": {},
   "outputs": [
    {
     "name": "stdout",
     "output_type": "stream",
     "text": [
      "{}\n"
     ]
    }
   ],
   "source": [
    "def longSquare(num, results):\n",
    "    time.sleep(1)\n",
    "    print(num**2)\n",
    "    print('FINISHED COMPUTING')\n",
    "\n",
    "results = {}\n",
    "p1 = Process(target=longSquare, args=(1,results))\n",
    "p2 = Process(target=longSquare, args=(2,results))\n",
    "\n",
    "p1.start()\n",
    "p2.start()\n",
    "\n",
    "p1.join()\n",
    "p2.join()\n",
    "\n",
    "print(results)\n"
   ]
  },
  {
   "cell_type": "code",
   "execution_count": 7,
   "id": "37273e14",
   "metadata": {},
   "outputs": [
    {
     "data": {
      "text/plain": [
       "[None, None, None, None, None, None, None, None, None, None]"
      ]
     },
     "execution_count": 7,
     "metadata": {},
     "output_type": "execute_result"
    }
   ],
   "source": [
    "def longSquare(num, results):\n",
    "    time.sleep(1)\n",
    "    print(num**2)\n",
    "    print('Finished computing!')\n",
    "\n",
    "results = {}\n",
    "processes = [Process(target=longSquare, args=(n,results)) for n in range(0, 10)]\n",
    "[p.start() for p in processes]\n",
    "[p.join() for p in processes]\n",
    "\n",
    "\n"
   ]
  },
  {
   "cell_type": "code",
   "execution_count": 5,
   "id": "ee636997",
   "metadata": {},
   "outputs": [
    {
     "name": "stdout",
     "output_type": "stream",
     "text": [
      "01\n",
      "Finished computing!\n",
      "4\n",
      "Finished computing!\n",
      "9\n",
      "Finished computing!\n",
      "\n",
      "Finished computing!\n",
      "16\n",
      "Finished computing!\n",
      "25\n",
      "Finished computing!\n",
      "36\n",
      "Finished computing!\n",
      "49\n",
      "Finished computing!\n",
      "64\n",
      "Finished computing!\n",
      "81\n",
      "Finished computing!\n",
      "{}\n"
     ]
    }
   ],
   "source": [
    "results = {}\n",
    "threads = [threading.Thread(target=longSquare, args=(n, results)) for n in range(0, 10)]\n",
    "[t.start() for t in threads]\n",
    "[t.join() for t in threads]\n",
    "print(results)"
   ]
  },
  {
   "cell_type": "markdown",
   "id": "2bd84d3c-dcb9-4c85-ac77-df7c8036f0ec",
   "metadata": {},
   "source": [
    "**NOTE:** Processes run multiple processes in parallel on multiple processors"
   ]
  },
  {
   "cell_type": "markdown",
   "id": "8a57c71c-7cb8-428d-8b07-2805aa2a202a",
   "metadata": {},
   "source": [
    "**NOTE:** in Threading, the same processor picks up threads in a round-robin fasion, when the program has periods of \"waiting\" and doing nothing, emulating parallel computing"
   ]
  },
  {
   "cell_type": "code",
   "execution_count": null,
   "id": "6ccdee99-3ee6-49a6-bf12-0847ac0df39c",
   "metadata": {},
   "outputs": [],
   "source": []
  }
 ],
 "metadata": {
  "kernelspec": {
   "display_name": "Python 3 (ipykernel)",
   "language": "python",
   "name": "python3"
  },
  "language_info": {
   "codemirror_mode": {
    "name": "ipython",
    "version": 3
   },
   "file_extension": ".py",
   "mimetype": "text/x-python",
   "name": "python",
   "nbconvert_exporter": "python",
   "pygments_lexer": "ipython3",
   "version": "3.12.0"
  }
 },
 "nbformat": 4,
 "nbformat_minor": 5
}

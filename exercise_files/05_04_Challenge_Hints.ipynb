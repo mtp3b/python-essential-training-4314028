{
 "cells": [
  {
   "cell_type": "markdown",
   "id": "3d331168",
   "metadata": {},
   "source": [
    "## Faster Prime Finding\n",
    "\n",
    "Write a function that returns a list of all primes up to a given number.\n",
    "\n",
    "For each number, in order to determine if it is prime, take the following steps:\n",
    "1. Find the square root of the number\n",
    "2. Find all the primes up to that square root\n",
    "3. Test to see if any of those primes are divisors \n",
    "\n",
    "If a number has no prime divisors, it is prime!\n"
   ]
  },
  {
   "cell_type": "markdown",
   "id": "c722d7d2",
   "metadata": {},
   "source": [
    "### Challenge Hints!"
   ]
  },
  {
   "cell_type": "markdown",
   "id": "447e6304",
   "metadata": {},
   "source": [
    "**Hint 1:** The function should collect a list of prime numbers as goes. This is the list that it adds \"new primes\" to as well as the list it uses to check for factors.\n"
   ]
  },
  {
   "cell_type": "markdown",
   "id": "60c7327b",
   "metadata": {},
   "source": [
    "**Hint 2:** Don't try to test whether or not 2 is prime. You can assume it's prime and just add it to your list to start"
   ]
  },
  {
   "cell_type": "markdown",
   "id": "45c5dc7b",
   "metadata": {},
   "source": [
    "**Hint 3:** Try modifying the previously-written code:"
   ]
  },
  {
   "cell_type": "code",
   "execution_count": 25,
   "id": "747a1ebf",
   "metadata": {},
   "outputs": [
    {
     "name": "stdout",
     "output_type": "stream",
     "text": [
      "2 is prime!\n",
      "3 is prime!\n",
      "5 is prime!\n",
      "7 is prime!\n",
      "11 is prime!\n",
      "13 is prime!\n",
      "17 is prime!\n",
      "19 is prime!\n",
      "23 is prime!\n",
      "29 is prime!\n",
      "31 is prime!\n",
      "37 is prime!\n",
      "41 is prime!\n",
      "43 is prime!\n",
      "47 is prime!\n",
      "53 is prime!\n",
      "59 is prime!\n",
      "61 is prime!\n",
      "67 is prime!\n",
      "71 is prime!\n",
      "73 is prime!\n",
      "79 is prime!\n",
      "83 is prime!\n",
      "89 is prime!\n",
      "97 is prime!\n"
     ]
    }
   ],
   "source": [
    "for number in range(2, 100):\n",
    "    for factor in range(2, int(number ** 0.5) + 1):\n",
    "        if number % factor == 0:\n",
    "            break\n",
    "    else:\n",
    "        print(f'{number} is prime!')"
   ]
  },
  {
   "cell_type": "code",
   "execution_count": 24,
   "id": "b27bfac4",
   "metadata": {},
   "outputs": [
    {
     "name": "stdout",
     "output_type": "stream",
     "text": [
      "2\n",
      "3\n"
     ]
    }
   ],
   "source": [
    "for num in range(2,4):\n",
    "    print(num)"
   ]
  },
  {
   "cell_type": "code",
   "execution_count": 5,
   "id": "5fc8b019",
   "metadata": {},
   "outputs": [],
   "source": [
    "def allPrimesUpTo(num):\n",
    "    pass"
   ]
  },
  {
   "cell_type": "code",
   "execution_count": 4,
   "id": "76e6a11b",
   "metadata": {},
   "outputs": [
    {
     "name": "stdout",
     "output_type": "stream",
     "text": [
      "2\n",
      "3\n",
      "4\n",
      "5\n",
      "6\n",
      "7\n",
      "8\n",
      "9\n",
      "10\n",
      "11\n",
      "12\n",
      "13\n",
      "14\n",
      "15\n",
      "16\n",
      "17\n",
      "18\n",
      "19\n",
      "20\n",
      "21\n",
      "22\n",
      "23\n",
      "24\n",
      "25\n",
      "26\n",
      "27\n",
      "28\n",
      "29\n",
      "30\n",
      "31\n",
      "32\n",
      "33\n",
      "34\n",
      "35\n",
      "36\n",
      "37\n",
      "38\n",
      "39\n",
      "40\n",
      "41\n",
      "42\n",
      "43\n",
      "44\n",
      "45\n",
      "46\n",
      "47\n",
      "48\n",
      "49\n",
      "50\n",
      "51\n",
      "52\n",
      "53\n",
      "54\n",
      "55\n",
      "56\n",
      "57\n",
      "58\n",
      "59\n",
      "60\n",
      "61\n",
      "62\n",
      "63\n",
      "64\n",
      "65\n",
      "66\n",
      "67\n",
      "68\n",
      "69\n",
      "70\n",
      "71\n",
      "72\n",
      "73\n",
      "74\n",
      "75\n",
      "76\n",
      "77\n",
      "78\n",
      "79\n",
      "80\n",
      "81\n",
      "82\n",
      "83\n",
      "84\n",
      "85\n",
      "86\n",
      "87\n",
      "88\n",
      "89\n",
      "90\n",
      "91\n",
      "92\n",
      "93\n",
      "94\n",
      "95\n",
      "96\n",
      "97\n",
      "98\n",
      "99\n"
     ]
    }
   ],
   "source": [
    "allPrimesUpTo(100)"
   ]
  },
  {
   "cell_type": "code",
   "execution_count": 3,
   "id": "0084237b",
   "metadata": {},
   "outputs": [],
   "source": [
    "allPrimesUpTo(1000)"
   ]
  },
  {
   "cell_type": "code",
   "execution_count": null,
   "id": "9c863053",
   "metadata": {},
   "outputs": [],
   "source": []
  }
 ],
 "metadata": {
  "kernelspec": {
   "display_name": "Python 3 (ipykernel)",
   "language": "python",
   "name": "python3"
  },
  "language_info": {
   "codemirror_mode": {
    "name": "ipython",
    "version": 3
   },
   "file_extension": ".py",
   "mimetype": "text/x-python",
   "name": "python",
   "nbconvert_exporter": "python",
   "pygments_lexer": "ipython3",
   "version": "3.12.0"
  },
  "vscode": {
   "interpreter": {
    "hash": "949777d72b0d2535278d3dc13498b2535136f6dfe0678499012e853ee9abcab1"
   }
  }
 },
 "nbformat": 4,
 "nbformat_minor": 5
}

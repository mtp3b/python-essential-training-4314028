{
 "cells": [
  {
   "cell_type": "markdown",
   "id": "6aa22b13",
   "metadata": {},
   "source": [
    "## Files\n",
    "**NOTE:** you need to specify whether you are just reading or if you are modifying a file"
   ]
  },
  {
   "cell_type": "markdown",
   "id": "6845a35a",
   "metadata": {},
   "source": [
    "### Reading Files"
   ]
  },
  {
   "cell_type": "code",
   "execution_count": 23,
   "id": "136e3488",
   "metadata": {},
   "outputs": [
    {
     "name": "stdout",
     "output_type": "stream",
     "text": [
      "<_io.TextIOWrapper name='10_01_file.txt' mode='r' encoding='cp1252'>\n"
     ]
    }
   ],
   "source": [
    "f = open('10_01_file.txt', 'r') #r means read\n",
    "print(f)"
   ]
  },
  {
   "cell_type": "code",
   "execution_count": 24,
   "id": "37766ca7",
   "metadata": {},
   "outputs": [
    {
     "data": {
      "text/plain": [
       "'Beautiful is better than ugly.\\n'"
      ]
     },
     "execution_count": 24,
     "metadata": {},
     "output_type": "execute_result"
    }
   ],
   "source": [
    "f.readline() #reads the contents of a file, one line per execution."
   ]
  },
  {
   "cell_type": "code",
   "execution_count": 25,
   "id": "f63f7525-1691-4106-8dac-79977d9a5d5a",
   "metadata": {},
   "outputs": [
    {
     "data": {
      "text/plain": [
       "\"Explicit is better than implicit.\\nSimple is better than complex.\\nComplex is better than complicated.\\nFlat is better than nested.\\nSparse is better than dense.\\nReadability counts.\\nSpecial cases aren't special enough to break the rules.\\nAlthough practicality beats purity.\\nErrors should never pass silently.\\nUnless explicitly silenced.\\nIn the face of ambiguity, refuse the temptation to guess.\\nThere should be one-- and preferably only one --obvious way to do it.\\nAlthough that way may not be obvious at first unless you're Dutch.\\nNow is better than never.\\nAlthough never is often better than *right* now.\\nIf the implementation is hard to explain, it's a bad idea.\\nIf the implementation is easy to explain, it may be a good idea.\\nNamespaces are one honking great idea -- let's do more of those!\""
      ]
     },
     "execution_count": 25,
     "metadata": {},
     "output_type": "execute_result"
    }
   ],
   "source": [
    "f.read()  #reads the lines of the file that haven't been read yet and outputs them into a string."
   ]
  },
  {
   "cell_type": "code",
   "execution_count": 12,
   "id": "cbaa3c36",
   "metadata": {},
   "outputs": [
    {
     "data": {
      "text/plain": [
       "['Flat is better than nested.\\n',\n",
       " 'Sparse is better than dense.\\n',\n",
       " 'Readability counts.\\n',\n",
       " \"Special cases aren't special enough to break the rules.\\n\",\n",
       " 'Although practicality beats purity.\\n',\n",
       " 'Errors should never pass silently.\\n',\n",
       " 'Unless explicitly silenced.\\n',\n",
       " 'In the face of ambiguity, refuse the temptation to guess.\\n',\n",
       " 'There should be one-- and preferably only one --obvious way to do it.\\n',\n",
       " \"Although that way may not be obvious at first unless you're Dutch.\\n\",\n",
       " 'Now is better than never.\\n',\n",
       " 'Although never is often better than *right* now.\\n',\n",
       " \"If the implementation is hard to explain, it's a bad idea.\\n\",\n",
       " 'If the implementation is easy to explain, it may be a good idea.\\n',\n",
       " \"Namespaces are one honking great idea -- let's do more of those!\"]"
      ]
     },
     "execution_count": 12,
     "metadata": {},
     "output_type": "execute_result"
    }
   ],
   "source": [
    "f.readlines()  #gets the lines of the file that haven't been read yet and puts them in a list of strings."
   ]
  },
  {
   "cell_type": "code",
   "execution_count": 13,
   "id": "d4b71184",
   "metadata": {},
   "outputs": [
    {
     "name": "stdout",
     "output_type": "stream",
     "text": [
      "Beautiful is better than ugly.\n",
      "Explicit is better than implicit.\n",
      "Simple is better than complex.\n",
      "Complex is better than complicated.\n",
      "Flat is better than nested.\n",
      "Sparse is better than dense.\n",
      "Readability counts.\n",
      "Special cases aren't special enough to break the rules.\n",
      "Although practicality beats purity.\n",
      "Errors should never pass silently.\n",
      "Unless explicitly silenced.\n",
      "In the face of ambiguity, refuse the temptation to guess.\n",
      "There should be one-- and preferably only one --obvious way to do it.\n",
      "Although that way may not be obvious at first unless you're Dutch.\n",
      "Now is better than never.\n",
      "Although never is often better than *right* now.\n",
      "If the implementation is hard to explain, it's a bad idea.\n",
      "If the implementation is easy to explain, it may be a good idea.\n",
      "Namespaces are one honking great idea -- let's do more of those!\n"
     ]
    }
   ],
   "source": [
    "f = open('10_01_file.txt', 'r')\n",
    "for line in f.readlines():\n",
    "    print(line.strip())   #the strip functions removes leading or trailing white spaces (including new lines)."
   ]
  },
  {
   "cell_type": "markdown",
   "id": "f50154d9",
   "metadata": {},
   "source": [
    "### Writing Files"
   ]
  },
  {
   "cell_type": "code",
   "execution_count": 17,
   "id": "0a968992",
   "metadata": {},
   "outputs": [
    {
     "name": "stdout",
     "output_type": "stream",
     "text": [
      "<_io.TextIOWrapper name='10_01_output.txt' mode='w' encoding='cp1252'>\n"
     ]
    }
   ],
   "source": [
    "f = open('10_01_output.txt', 'w')  #w for write. it will overwrite the file if existing.\n",
    "print(f)"
   ]
  },
  {
   "cell_type": "code",
   "execution_count": 18,
   "id": "5494eb04",
   "metadata": {},
   "outputs": [
    {
     "data": {
      "text/plain": [
       "7"
      ]
     },
     "execution_count": 18,
     "metadata": {},
     "output_type": "execute_result"
    }
   ],
   "source": [
    "f.write('Line 1\\n')\n",
    "f.write('Line 2\\n')"
   ]
  },
  {
   "cell_type": "markdown",
   "id": "81bd6f84-46be-480d-9fd0-936d58364f35",
   "metadata": {},
   "source": [
    "**NOTE:** the output of the <code>write</code> function will not be reflected in the output file until you close it or it runs out of buffer."
   ]
  },
  {
   "cell_type": "code",
   "execution_count": 16,
   "id": "b222ea93",
   "metadata": {},
   "outputs": [],
   "source": [
    "f.close()"
   ]
  },
  {
   "cell_type": "markdown",
   "id": "8a54d22e",
   "metadata": {},
   "source": [
    "### Appending Files"
   ]
  },
  {
   "cell_type": "code",
   "execution_count": 19,
   "id": "42b670c3",
   "metadata": {},
   "outputs": [],
   "source": [
    "f = open('10_01_output.txt', 'a')  #a is for append mode. does not overwrite file if existing.\n",
    "f.write('Line 3\\n')\n",
    "f.write('Line 4\\n')\n",
    "f.close()"
   ]
  },
  {
   "cell_type": "code",
   "execution_count": 15,
   "id": "623506cf",
   "metadata": {},
   "outputs": [
    {
     "name": "stdout",
     "output_type": "stream",
     "text": [
      "<_io.TextIOWrapper name='10_01_output.txt' mode='a' encoding='UTF-8'>\n"
     ]
    }
   ],
   "source": [
    "with open('10_01_output.txt', 'a') as f:\n",
    "    f.write('some stuff\\n')\n",
    "    f.write('some other stuff\\n')\n",
    "    \n",
    "print(f)"
   ]
  },
  {
   "cell_type": "code",
   "execution_count": 16,
   "id": "a8663ad4",
   "metadata": {},
   "outputs": [
    {
     "ename": "ValueError",
     "evalue": "I/O operation on closed file.",
     "output_type": "error",
     "traceback": [
      "\u001b[0;31m---------------------------------------------------------------------------\u001b[0m",
      "\u001b[0;31mValueError\u001b[0m                                Traceback (most recent call last)",
      "Input \u001b[0;32mIn [16]\u001b[0m, in \u001b[0;36m<module>\u001b[0;34m\u001b[0m\n\u001b[0;32m----> 1\u001b[0m \u001b[43mf\u001b[49m\u001b[38;5;241;43m.\u001b[39;49m\u001b[43mwrite\u001b[49m\u001b[43m(\u001b[49m\u001b[38;5;124;43m'\u001b[39;49m\u001b[38;5;124;43mPS. I forgot some stuff\u001b[39;49m\u001b[38;5;124;43m'\u001b[39;49m\u001b[43m)\u001b[49m\n",
      "\u001b[0;31mValueError\u001b[0m: I/O operation on closed file."
     ]
    }
   ],
   "source": [
    "f.write('PS. I forgot some stuff')"
   ]
  },
  {
   "cell_type": "markdown",
   "id": "7fbad49a-bd82-429d-996d-593cbfd25324",
   "metadata": {},
   "source": [
    "**NOTE:** using the <code>with</code> function closes the file as soon as youn outdent in the function."
   ]
  },
  {
   "cell_type": "code",
   "execution_count": null,
   "id": "bd255d59-4427-4ae6-bcb2-766f88027317",
   "metadata": {},
   "outputs": [],
   "source": []
  }
 ],
 "metadata": {
  "kernelspec": {
   "display_name": "Python 3 (ipykernel)",
   "language": "python",
   "name": "python3"
  },
  "language_info": {
   "codemirror_mode": {
    "name": "ipython",
    "version": 3
   },
   "file_extension": ".py",
   "mimetype": "text/x-python",
   "name": "python",
   "nbconvert_exporter": "python",
   "pygments_lexer": "ipython3",
   "version": "3.12.0"
  }
 },
 "nbformat": 4,
 "nbformat_minor": 5
}

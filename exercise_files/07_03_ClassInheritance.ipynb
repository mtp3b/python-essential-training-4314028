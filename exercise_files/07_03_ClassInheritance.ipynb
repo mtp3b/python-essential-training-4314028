{
 "cells": [
  {
   "cell_type": "markdown",
   "id": "3ca28428",
   "metadata": {},
   "source": [
    "## Class Inheritance"
   ]
  },
  {
   "cell_type": "code",
   "execution_count": 6,
   "id": "06ce42b1",
   "metadata": {},
   "outputs": [],
   "source": [
    "class Dog:\n",
    "    _legs = 4\n",
    "    def __init__(self, name):\n",
    "        self.name = name\n",
    "\n",
    "    def speak(self):\n",
    "        print(self.name + ' says: Bark!')\n",
    "    \n",
    "    def getLegs(self):\n",
    "        return self._legs\n",
    "\n",
    "\n",
    "class Chihuahua(Dog): #this is a child class of class Dog\n",
    "    pass\n"
   ]
  },
  {
   "cell_type": "code",
   "execution_count": 7,
   "id": "2c322f6a-e0ae-44b5-9a37-cb9dfbb4db7b",
   "metadata": {},
   "outputs": [
    {
     "name": "stdout",
     "output_type": "stream",
     "text": [
      "Roxy says: Bark!\n"
     ]
    }
   ],
   "source": [
    "dog = Chihuahua('Roxy')\n",
    "dog.speak()"
   ]
  },
  {
   "cell_type": "markdown",
   "id": "d88bd72f-6656-4f6a-b079-9eb2ec9c8f0b",
   "metadata": {},
   "source": [
    "**NOTE:** The child class inherits the attributes and methods of the parent class by default.  Child classes are used if you want to use the parent class but introduce some minor tweaks like adding new methods."
   ]
  },
  {
   "cell_type": "code",
   "execution_count": 1,
   "id": "ee2648ba-c5a8-487f-a39f-4ac1d6f3cb24",
   "metadata": {},
   "outputs": [],
   "source": [
    "class Dog:\n",
    "    _legs = 4\n",
    "    def __init__(self, name):\n",
    "        self.name = name\n",
    "\n",
    "    def speak(self):\n",
    "        print(self.name + ' says: Bark!')\n",
    "    \n",
    "    def getLegs(self):\n",
    "        return self._legs\n",
    "\n",
    "\n",
    "class Chihuahua(Dog): #this is a child class of class Dog\n",
    "    def speak(self):\n",
    "        print(f'{self.name} says: Yap yap yap!')\n",
    "        \n",
    "    def wagTail(self):  #new method added to child class Chihuahua\n",
    "        print('Vigorous wagging!')"
   ]
  },
  {
   "cell_type": "code",
   "execution_count": 5,
   "id": "dd5dd985",
   "metadata": {},
   "outputs": [
    {
     "name": "stdout",
     "output_type": "stream",
     "text": [
      "Roxy says: Yap yap yap!\n",
      "Vigorous wagging!\n"
     ]
    }
   ],
   "source": [
    "dog = Chihuahua('Roxy')\n",
    "dog.speak()\n",
    "dog.wagTail()"
   ]
  },
  {
   "cell_type": "markdown",
   "id": "f3286a66-5c8e-41a5-9a0a-87028992830e",
   "metadata": {},
   "source": [
    "**NOTE:** if you define attributes and methods for the child class, it will overwrite the attributes of the parent class."
   ]
  },
  {
   "cell_type": "code",
   "execution_count": 5,
   "id": "9f367505",
   "metadata": {},
   "outputs": [
    {
     "name": "stdout",
     "output_type": "stream",
     "text": [
      "Rover says: Bark!\n"
     ]
    }
   ],
   "source": [
    "myDog = Dog('Rover')\n",
    "myDog.speak()"
   ]
  },
  {
   "cell_type": "markdown",
   "id": "fb776450",
   "metadata": {},
   "source": [
    "### Extending built-in classes\n",
    "**NOTE:** EXTENDING means to define a child class"
   ]
  },
  {
   "cell_type": "code",
   "execution_count": 12,
   "id": "352c540a",
   "metadata": {},
   "outputs": [],
   "source": [
    "myList = list()   # in this example, list() is the parent class"
   ]
  },
  {
   "cell_type": "code",
   "execution_count": 4,
   "id": "fcf877f7",
   "metadata": {},
   "outputs": [
    {
     "name": "stdout",
     "output_type": "stream",
     "text": [
      "[1, 2]\n"
     ]
    }
   ],
   "source": [
    "class UniqueList(list):\n",
    "    def append(self, item):\n",
    "        if item in self:\n",
    "            return\n",
    "        super().append(item) #using super() instead of self. makes you call the append() method of the parent class, not the child class.\n",
    "        \n",
    "uniqueList = UniqueList()\n",
    "uniqueList.append(1)\n",
    "uniqueList.append(1)\n",
    "uniqueList.append(2)\n",
    "\n",
    "print(uniqueList)"
   ]
  },
  {
   "cell_type": "code",
   "execution_count": 5,
   "id": "e6ec6f25",
   "metadata": {},
   "outputs": [
    {
     "name": "stdout",
     "output_type": "stream",
     "text": [
      "Unique List!\n"
     ]
    }
   ],
   "source": [
    "class UniqueList(list):\n",
    "    \n",
    "    def __init__(self):\n",
    "        super().__init__()  #use this to initialize the parent class first before you add your new property which may be overwriting a constructor.\n",
    "        self.someProperty = 'Unique List!'  #we may be overwriting an important constructor in the parent class.\n",
    "        \n",
    "\n",
    "    def append(self, item):\n",
    "        if item in self:\n",
    "            return\n",
    "        super().append(item)\n",
    "        \n",
    "uniqueList = UniqueList()\n",
    "uniqueList.append(1)\n",
    "uniqueList.append(1)\n",
    "uniqueList.append(2)\n",
    "\n",
    "print(uniqueList.someProperty)"
   ]
  },
  {
   "cell_type": "code",
   "execution_count": null,
   "id": "6ea4c632",
   "metadata": {},
   "outputs": [],
   "source": []
  }
 ],
 "metadata": {
  "kernelspec": {
   "display_name": "Python 3 (ipykernel)",
   "language": "python",
   "name": "python3"
  },
  "language_info": {
   "codemirror_mode": {
    "name": "ipython",
    "version": 3
   },
   "file_extension": ".py",
   "mimetype": "text/x-python",
   "name": "python",
   "nbconvert_exporter": "python",
   "pygments_lexer": "ipython3",
   "version": "3.12.0"
  }
 },
 "nbformat": 4,
 "nbformat_minor": 5
}

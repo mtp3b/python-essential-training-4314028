{
 "cells": [
  {
   "cell_type": "markdown",
   "id": "5ecfaeb8",
   "metadata": {},
   "source": [
    "## ASCII Art Compression\n",
    "\n",
    "Use the \"encodeString\" and \"decodeString\" functions from the Chapter 4 challenge, provided below\n",
    "\n",
    "Read in the ASCII art text file 10_04_challenge_art.txt and write it back to a new file that has a smaller file size than the original file. \n",
    "For example, the original 10_04_challenge_art.txt has a file size of 2.757kB (or 2,757 ASCII characters).\n",
    "\n",
    "- Any compression is great!\n",
    "- Is there any way you could get this file to 1kb?\n",
    "- Less than 1kb?\n",
    "\n",
    "After compressing the file, make sure to check your work by opening and decoding it again!\n",
    "\n"
   ]
  },
  {
   "cell_type": "code",
   "execution_count": 1,
   "id": "0ec1174a",
   "metadata": {},
   "outputs": [],
   "source": [
    "import os\n",
    "\n",
    "def encodeString(stringVal):\n",
    "    encodedList = []\n",
    "    prevChar = None\n",
    "    count = 0\n",
    "    for char in stringVal:\n",
    "        if prevChar != char and prevChar is not None:\n",
    "            encodedList.append((prevChar, count))\n",
    "            count = 0\n",
    "        prevChar = char\n",
    "        count = count + 1\n",
    "    encodedList.append((prevChar, count))\n",
    "    return encodedList\n",
    "\n",
    "def decodeString(encodedList):\n",
    "    decodedStr = ''\n",
    "    for item in encodedList:\n",
    "        decodedStr = decodedStr + item[0] * item[1]\n",
    "    return decodedStr"
   ]
  },
  {
   "cell_type": "code",
   "execution_count": 134,
   "id": "9419d4f1",
   "metadata": {},
   "outputs": [],
   "source": [
    "\n",
    "def encodeFile(filename, newFilename):\n",
    "    # Your code here!\n",
    "    with open(filename, 'r') as f:\n",
    "        with open(newFilename, 'w') as newFile:\n",
    "            for line in f.readlines():\n",
    "                encode = encodeString(line)\n",
    "                print(encode)\n",
    "                newFile.write(str(encode))\n",
    "\n",
    "            #encode = encodeString(f)\n",
    "            #print(encode)\n",
    "            #newFile.write(encode)\n",
    "            \n",
    "\n",
    "def decodeFile(filename):\n",
    "    # Your code here!\n",
    "    pass\n",
    "\n"
   ]
  },
  {
   "cell_type": "code",
   "execution_count": 135,
   "id": "bd2b41b6",
   "metadata": {},
   "outputs": [
    {
     "name": "stdout",
     "output_type": "stream",
     "text": [
      "Original file size: 2757\n",
      "[('\\n', 1)]\n",
      "[(' ', 80), ('\\n', 1)]\n",
      "[(' ', 80), ('\\n', 1)]\n",
      "[(' ', 31), ('%', 19), (' ', 30), ('\\n', 1)]\n",
      "[(' ', 24), ('%', 33), (' ', 23), ('\\n', 1)]\n",
      "[(' ', 20), ('%', 8), (' ', 25), ('%', 8), (' ', 19), ('\\n', 1)]\n",
      "[(' ', 16), ('%', 7), (' ', 35), ('%', 6), (' ', 16), ('\\n', 1)]\n",
      "[(' ', 14), ('%', 6), (' ', 41), ('%', 6), (' ', 13), ('\\n', 1)]\n",
      "[(' ', 11), ('%', 6), (' ', 47), ('%', 5), (' ', 11), ('\\n', 1)]\n",
      "[(' ', 10), ('%', 5), (' ', 51), ('%', 5), (' ', 9), ('\\n', 1)]\n",
      "[(' ', 8), ('%', 5), (' ', 55), ('%', 5), (' ', 7), ('\\n', 1)]\n",
      "[(' ', 7), ('%', 4), (' ', 17), ('%', 5), (' ', 14), ('%', 5), (' ', 18), ('%', 4), (' ', 6), ('\\n', 1)]\n",
      "[(' ', 6), ('%', 4), (' ', 17), ('%', 7), (' ', 12), ('%', 7), (' ', 18), ('%', 4), (' ', 5), ('\\n', 1)]\n",
      "[(' ', 5), ('%', 4), (' ', 18), ('%', 7), (' ', 12), ('%', 7), (' ', 19), ('%', 4), (' ', 4), ('\\n', 1)]\n",
      "[(' ', 4), ('%', 4), (' ', 19), ('%', 7), (' ', 12), ('%', 7), (' ', 20), ('%', 4), (' ', 3), ('\\n', 1)]\n",
      "[(' ', 4), ('%', 4), (' ', 20), ('%', 5), (' ', 14), ('%', 5), (' ', 21), ('%', 4), (' ', 3), ('\\n', 1)]\n",
      "[(' ', 3), ('%', 4), (' ', 67), ('%', 4), (' ', 2), ('\\n', 1)]\n",
      "[(' ', 3), ('%', 4), (' ', 67), ('%', 4), (' ', 2), ('\\n', 1)]\n",
      "[(' ', 3), ('%', 4), (' ', 67), ('%', 4), (' ', 2), ('\\n', 1)]\n",
      "[(' ', 3), ('%', 4), (' ', 54), ('%', 4), (' ', 8), ('%', 4), (' ', 3), ('\\n', 1)]\n",
      "[(' ', 4), ('%', 4), (' ', 7), ('%', 6), (' ', 40), ('%', 5), (' ', 7), ('%', 4), (' ', 3), ('\\n', 1)]\n",
      "[(' ', 4), ('%', 4), (' ', 9), ('%', 4), (' ', 39), ('%', 4), (' ', 8), ('%', 4), (' ', 4), ('\\n', 1)]\n",
      "[(' ', 5), ('%', 4), (' ', 9), ('%', 4), (' ', 37), ('%', 4), (' ', 9), ('%', 4), (' ', 4), ('\\n', 1)]\n",
      "[(' ', 6), ('%', 4), (' ', 9), ('%', 5), (' ', 34), ('%', 4), (' ', 9), ('%', 4), (' ', 5), ('\\n', 1)]\n",
      "[(' ', 7), ('%', 5), (' ', 9), ('%', 5), (' ', 29), ('%', 5), (' ', 9), ('%', 5), (' ', 6), ('\\n', 1)]\n",
      "[(' ', 8), ('%', 5), (' ', 10), ('%', 6), (' ', 24), ('%', 5), (' ', 10), ('%', 4), (' ', 8), ('\\n', 1)]\n",
      "[(' ', 10), ('%', 5), (' ', 11), ('%', 7), (' ', 15), ('%', 7), (' ', 11), ('%', 5), (' ', 9), ('\\n', 1)]\n",
      "[(' ', 12), ('%', 5), (' ', 13), ('%', 21), (' ', 13), ('%', 5), (' ', 11), ('\\n', 1)]\n",
      "[(' ', 14), ('%', 7), (' ', 40), ('%', 5), (' ', 14), ('\\n', 1)]\n",
      "[(' ', 17), ('%', 7), (' ', 33), ('%', 7), (' ', 16), ('\\n', 1)]\n",
      "[(' ', 21), ('%', 9), (' ', 21), ('%', 9), (' ', 20), ('\\n', 1)]\n",
      "[(' ', 26), ('%', 29), (' ', 25), ('\\n', 1)]\n",
      "[(' ', 35), ('%', 12), (' ', 33), ('\\n', 1)]\n",
      "[(' ', 80), ('\\n', 1)]\n",
      "[(' ', 81), ('\\n', 1)]\n",
      "[('\\n', 1)]\n",
      "New file size: 2452\n"
     ]
    }
   ],
   "source": [
    "print(f'Original file size: {os.path.getsize(\"10_04_challenge_art.txt\")}')\n",
    "\n",
    "encodeFile('10_04_challenge_art.txt', '10_04_challenge_art_encoded.txt')\n",
    "\n",
    "print(f'New file size: {os.path.getsize(\"10_04_challenge_art_encoded.txt\")}')\n"
   ]
  },
  {
   "cell_type": "code",
   "execution_count": 119,
   "id": "92945907",
   "metadata": {},
   "outputs": [],
   "source": [
    "decodeFile('10_04_challenge_art_encoded_old.txt')"
   ]
  },
  {
   "cell_type": "code",
   "execution_count": null,
   "id": "6aa88869-e222-4dfe-af9e-354da3600a0a",
   "metadata": {},
   "outputs": [],
   "source": []
  }
 ],
 "metadata": {
  "kernelspec": {
   "display_name": "Python 3 (ipykernel)",
   "language": "python",
   "name": "python3"
  },
  "language_info": {
   "codemirror_mode": {
    "name": "ipython",
    "version": 3
   },
   "file_extension": ".py",
   "mimetype": "text/x-python",
   "name": "python",
   "nbconvert_exporter": "python",
   "pygments_lexer": "ipython3",
   "version": "3.12.0"
  }
 },
 "nbformat": 4,
 "nbformat_minor": 5
}

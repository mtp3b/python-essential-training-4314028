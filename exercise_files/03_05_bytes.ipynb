{
 "cells": [
  {
   "cell_type": "markdown",
   "id": "fcb242f6",
   "metadata": {},
   "source": [
    "### Bytes"
   ]
  },
  {
   "cell_type": "code",
   "execution_count": 2,
   "id": "3c3ee6d8",
   "metadata": {
    "scrolled": true
   },
   "outputs": [
    {
     "data": {
      "text/plain": [
       "b'\\x00\\x00\\x00\\x00'"
      ]
     },
     "execution_count": 2,
     "metadata": {},
     "output_type": "execute_result"
    }
   ],
   "source": [
    "bytes(4)"
   ]
  },
  {
   "cell_type": "markdown",
   "id": "59d469a3-0c56-4852-a5c2-2989127a0ad6",
   "metadata": {},
   "source": [
    "##### Created a bytes object that is 4-bytes long. Not casting integer 4 into bytes object\n",
    "\n",
    "##### NOTE: any printout that starts with \"b\" is a bytes object"
   ]
  },
  {
   "cell_type": "code",
   "execution_count": 2,
   "id": "9a254973",
   "metadata": {
    "scrolled": true
   },
   "outputs": [
    {
     "data": {
      "text/plain": [
       "b'\\xf0\\x9f\\x99\\x84'"
      ]
     },
     "execution_count": 2,
     "metadata": {},
     "output_type": "execute_result"
    }
   ],
   "source": [
    "smileyBytes = bytes('🙄', 'utf-8')\n",
    "smileyBytes"
   ]
  },
  {
   "cell_type": "markdown",
   "id": "ac364215-ed3c-49e7-9bb1-a68dad750212",
   "metadata": {},
   "source": [
    "##### 2nd argument tells python the type of the data in the 1st argument"
   ]
  },
  {
   "cell_type": "code",
   "execution_count": 3,
   "id": "a18b1572",
   "metadata": {},
   "outputs": [
    {
     "data": {
      "text/plain": [
       "'🙄'"
      ]
     },
     "execution_count": 3,
     "metadata": {},
     "output_type": "execute_result"
    }
   ],
   "source": [
    "smileyBytes.decode('utf-8')"
   ]
  },
  {
   "cell_type": "code",
   "execution_count": 6,
   "id": "48a506cd",
   "metadata": {},
   "outputs": [],
   "source": [
    "smileyBytes = bytearray('🙄', 'utf-8')"
   ]
  },
  {
   "cell_type": "code",
   "execution_count": 7,
   "id": "5e920566",
   "metadata": {},
   "outputs": [
    {
     "data": {
      "text/plain": [
       "bytearray(b'\\xf0\\x9f\\x99\\x84')"
      ]
     },
     "execution_count": 7,
     "metadata": {},
     "output_type": "execute_result"
    }
   ],
   "source": [
    "smileyBytes"
   ]
  },
  {
   "cell_type": "markdown",
   "id": "53a9f0e8-63f7-4500-a787-90978c6f73aa",
   "metadata": {},
   "source": [
    "##### NOTE: bytes() is immutable.  bytearray() can be modified."
   ]
  },
  {
   "cell_type": "code",
   "execution_count": 8,
   "id": "6f5cb2b0",
   "metadata": {},
   "outputs": [],
   "source": [
    "smileyBytes[3] = int('85', 16)"
   ]
  },
  {
   "cell_type": "code",
   "execution_count": 9,
   "id": "8b5cd28d",
   "metadata": {},
   "outputs": [
    {
     "data": {
      "text/plain": [
       "'🙅'"
      ]
     },
     "execution_count": 9,
     "metadata": {},
     "output_type": "execute_result"
    }
   ],
   "source": [
    "smileyBytes.decode('utf-8')"
   ]
  }
 ],
 "metadata": {
  "kernelspec": {
   "display_name": "Python 3 (ipykernel)",
   "language": "python",
   "name": "python3"
  },
  "language_info": {
   "codemirror_mode": {
    "name": "ipython",
    "version": 3
   },
   "file_extension": ".py",
   "mimetype": "text/x-python",
   "name": "python",
   "nbconvert_exporter": "python",
   "pygments_lexer": "ipython3",
   "version": "3.12.0"
  }
 },
 "nbformat": 4,
 "nbformat_minor": 5
}

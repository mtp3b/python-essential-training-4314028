{
 "cells": [
  {
   "cell_type": "markdown",
   "id": "7e7cecd6",
   "metadata": {},
   "source": [
    "# Classes\n",
    "**NOTE:** Class names start with capital letter"
   ]
  },
  {
   "cell_type": "code",
   "execution_count": 4,
   "id": "d5cde69b",
   "metadata": {},
   "outputs": [],
   "source": [
    "class Dog:\n",
    "    def __init__(self, dog_name):\n",
    "        self.name = dog_name\n",
    "        self.legs = 4\n",
    "    \n",
    "    def speak(self):\n",
    "        print(self.name + ' says: Bark!')"
   ]
  },
  {
   "cell_type": "code",
   "execution_count": 5,
   "id": "5b3dde35",
   "metadata": {},
   "outputs": [],
   "source": [
    "my_dog = Dog('Rover')\n",
    "another_dog = Dog('Fluffy')"
   ]
  },
  {
   "cell_type": "markdown",
   "id": "70ffd189-3a17-4997-a2ce-3ac088113e5b",
   "metadata": {},
   "source": [
    "**NOTE:** The instances of the Class are called OBJECTS (Object Oriented Programming)"
   ]
  },
  {
   "cell_type": "code",
   "execution_count": 6,
   "id": "ceed1af6",
   "metadata": {},
   "outputs": [
    {
     "name": "stdout",
     "output_type": "stream",
     "text": [
      "Rover says: Bark!\n"
     ]
    }
   ],
   "source": [
    "my_dog.speak()"
   ]
  },
  {
   "cell_type": "code",
   "execution_count": 7,
   "id": "b85ea67b",
   "metadata": {},
   "outputs": [
    {
     "name": "stdout",
     "output_type": "stream",
     "text": [
      "Fluffy says: Bark!\n"
     ]
    }
   ],
   "source": [
    "another_dog.speak()"
   ]
  },
  {
   "cell_type": "markdown",
   "id": "231f945b-a0a2-4eb8-9eac-9d0ae9c833d3",
   "metadata": {},
   "source": [
    "**NOTE:** The variables inside are called ATTRIBUTES"
   ]
  },
  {
   "cell_type": "markdown",
   "id": "95ebaf52-86f5-42e2-b1ed-3b0e06c4e87c",
   "metadata": {},
   "source": [
    "**NOTE:** The functions are called METHODS"
   ]
  },
  {
   "cell_type": "code",
   "execution_count": null,
   "id": "7160ec98-69c7-41fc-ba26-76a28a577527",
   "metadata": {},
   "outputs": [],
   "source": []
  }
 ],
 "metadata": {
  "kernelspec": {
   "display_name": "Python 3 (ipykernel)",
   "language": "python",
   "name": "python3"
  },
  "language_info": {
   "codemirror_mode": {
    "name": "ipython",
    "version": 3
   },
   "file_extension": ".py",
   "mimetype": "text/x-python",
   "name": "python",
   "nbconvert_exporter": "python",
   "pygments_lexer": "ipython3",
   "version": "3.12.0"
  }
 },
 "nbformat": 4,
 "nbformat_minor": 5
}

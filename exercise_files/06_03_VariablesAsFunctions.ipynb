{
 "cells": [
  {
   "cell_type": "markdown",
   "id": "b693252d",
   "metadata": {},
   "source": [
    "## Variables as Functions"
   ]
  },
  {
   "cell_type": "code",
   "execution_count": 1,
   "id": "4f487c83",
   "metadata": {},
   "outputs": [],
   "source": [
    "x = 5"
   ]
  },
  {
   "cell_type": "code",
   "execution_count": 2,
   "id": "cb49359a",
   "metadata": {},
   "outputs": [],
   "source": [
    "def x():\n",
    "    return 5"
   ]
  },
  {
   "cell_type": "markdown",
   "id": "4065cfed",
   "metadata": {},
   "source": [
    "### Viewing function data with  \\_\\_code\\_\\_"
   ]
  },
  {
   "cell_type": "code",
   "execution_count": 3,
   "id": "64b94543",
   "metadata": {},
   "outputs": [
    {
     "name": "stdout",
     "output_type": "stream",
     "text": [
      "()\n",
      "b'd\\x01S\\x00'\n"
     ]
    }
   ],
   "source": [
    "print(x.__code__.co_varnames)\n",
    "print(x.__code__.co_code)"
   ]
  },
  {
   "cell_type": "markdown",
   "id": "5eb0b9e0",
   "metadata": {},
   "source": [
    "### Text processing in Python"
   ]
  },
  {
   "cell_type": "code",
   "execution_count": 4,
   "id": "97284f20",
   "metadata": {},
   "outputs": [],
   "source": [
    "text = '''\n",
    "Beautiful is better than ugly.\n",
    "Explicit is better than implicit.\n",
    "Simple is better than complex.\n",
    "Complex is better than complicated.\n",
    "Flat is better than nested.\n",
    "Sparse is better than dense.\n",
    "Readability counts.\n",
    "Special cases aren't special enough to break the rules.\n",
    "Although practicality beats purity.\n",
    "Errors should never pass silently.\n",
    "Unless explicitly silenced.\n",
    "In the face of ambiguity, refuse the temptation to guess.\n",
    "There should be one-- and preferably only one --obvious way to do it.\n",
    "Although that way may not be obvious at first unless you're Dutch.\n",
    "Now is better than never.\n",
    "Although never is often better than *right* now.\n",
    "If the implementation is hard to explain, it's a bad idea.\n",
    "If the implementation is easy to explain, it may be a good idea.\n",
    "Namespaces are one honking great idea -- let's do more of those!\n",
    "'''\n"
   ]
  },
  {
   "cell_type": "code",
   "execution_count": 5,
   "id": "bd899058",
   "metadata": {},
   "outputs": [],
   "source": [
    "def lowercase(text):\n",
    "    return text.lower()\n",
    "\n",
    "def removePunctuation(text):\n",
    "    punctuations = ['.', '-', ',', '*']\n",
    "    for punctuation in punctuations:\n",
    "        text = text.replace(punctuation, '')\n",
    "    return text\n",
    "\n",
    "def removeNewlines(text):\n",
    "    text = text.replace('\\n', ' ')\n",
    "    return text\n",
    "\n",
    "def removeShortWords(text):\n",
    "    return ' '.join([word for word in text.split() if len(word) > 3])\n",
    "\n",
    "def removeLongWords(text):\n",
    "    return ' '.join([word for word in text.split() if len(word) < 6])"
   ]
  },
  {
   "cell_type": "code",
   "execution_count": 7,
   "id": "4e6e3111",
   "metadata": {},
   "outputs": [
    {
     "name": "stdout",
     "output_type": "stream",
     "text": [
      "is than ugly is than is than is than flat is than is than dense cases to break the rules beats never pass in the face of the to guess there be one and only one way to do it that way may not be at first dutch now is than never never is often than right now if the is hard to it's a bad idea if the is easy to it may be a good idea are one great idea let's do more of\n"
     ]
    }
   ],
   "source": [
    "processingFunctions = [lowercase, removePunctuation, removeNewlines, removeLongWords]\n",
    "\n",
    "for func in processingFunctions:\n",
    "    text = func(text)\n",
    "\n",
    "print(text)"
   ]
  },
  {
   "cell_type": "markdown",
   "id": "2639b4fa",
   "metadata": {},
   "source": [
    "### Lambda functions"
   ]
  },
  {
   "cell_type": "code",
   "execution_count": 9,
   "id": "9d3bbf30",
   "metadata": {},
   "outputs": [
    {
     "data": {
      "text/plain": [
       "5"
      ]
     },
     "execution_count": 9,
     "metadata": {},
     "output_type": "execute_result"
    }
   ],
   "source": [
    "2 + 3"
   ]
  },
  {
   "cell_type": "code",
   "execution_count": 10,
   "id": "3867835f",
   "metadata": {},
   "outputs": [
    {
     "data": {
      "text/plain": [
       "8"
      ]
     },
     "execution_count": 10,
     "metadata": {},
     "output_type": "execute_result"
    }
   ],
   "source": [
    "(lambda x: x + 3)(5)"
   ]
  },
  {
   "cell_type": "code",
   "execution_count": 1,
   "id": "be5ef736-50bf-4580-9850-0e1034b2ea52",
   "metadata": {},
   "outputs": [
    {
     "data": {
      "text/plain": [
       "10"
      ]
     },
     "execution_count": 1,
     "metadata": {},
     "output_type": "execute_result"
    }
   ],
   "source": [
    "(lambda x: x + 3)(7)"
   ]
  },
  {
   "cell_type": "code",
   "execution_count": 11,
   "id": "0cb05720",
   "metadata": {},
   "outputs": [
    {
     "data": {
      "text/plain": [
       "[2, 3, 4, 5]"
      ]
     },
     "execution_count": 11,
     "metadata": {},
     "output_type": "execute_result"
    }
   ],
   "source": [
    "myList = [5,4,3,2]\n",
    "sorted(myList)"
   ]
  },
  {
   "cell_type": "code",
   "execution_count": 2,
   "id": "7972b08a-dbbc-42ab-bdaf-02dd86c5ee08",
   "metadata": {},
   "outputs": [
    {
     "ename": "TypeError",
     "evalue": "'<' not supported between instances of 'dict' and 'dict'",
     "output_type": "error",
     "traceback": [
      "\u001b[1;31m---------------------------------------------------------------------------\u001b[0m",
      "\u001b[1;31mTypeError\u001b[0m                                 Traceback (most recent call last)",
      "Cell \u001b[1;32mIn[2], line 2\u001b[0m\n\u001b[0;32m      1\u001b[0m myList \u001b[38;5;241m=\u001b[39m [{\u001b[38;5;124m'\u001b[39m\u001b[38;5;124mnum\u001b[39m\u001b[38;5;124m'\u001b[39m: \u001b[38;5;241m3\u001b[39m}, {\u001b[38;5;124m'\u001b[39m\u001b[38;5;124mnum\u001b[39m\u001b[38;5;124m'\u001b[39m: \u001b[38;5;241m2\u001b[39m}, {\u001b[38;5;124m'\u001b[39m\u001b[38;5;124mnum\u001b[39m\u001b[38;5;124m'\u001b[39m: \u001b[38;5;241m1\u001b[39m}]\n\u001b[1;32m----> 2\u001b[0m \u001b[38;5;28;43msorted\u001b[39;49m\u001b[43m(\u001b[49m\u001b[43mmyList\u001b[49m\u001b[43m)\u001b[49m\n",
      "\u001b[1;31mTypeError\u001b[0m: '<' not supported between instances of 'dict' and 'dict'"
     ]
    }
   ],
   "source": [
    "myList = [{'num': 3}, {'num': 2}, {'num': 1}]\n",
    "sorted(myList)"
   ]
  },
  {
   "cell_type": "code",
   "execution_count": 13,
   "id": "6fcf5c06",
   "metadata": {},
   "outputs": [
    {
     "data": {
      "text/plain": [
       "[{'num': 1}, {'num': 2}, {'num': 3}]"
      ]
     },
     "execution_count": 13,
     "metadata": {},
     "output_type": "execute_result"
    }
   ],
   "source": [
    "myList = [{'num': 3}, {'num': 2}, {'num': 1}]\n",
    "sorted(myList, key=lambda x: x['num'])"
   ]
  },
  {
   "cell_type": "markdown",
   "id": "4f462b51-33f0-4453-9e35-7218d5e7004f",
   "metadata": {},
   "source": [
    "**NOTE:** Lambda Functions are convenient ways to write \"mini-functions\" as values"
   ]
  }
 ],
 "metadata": {
  "kernelspec": {
   "display_name": "Python 3 (ipykernel)",
   "language": "python",
   "name": "python3"
  },
  "language_info": {
   "codemirror_mode": {
    "name": "ipython",
    "version": 3
   },
   "file_extension": ".py",
   "mimetype": "text/x-python",
   "name": "python",
   "nbconvert_exporter": "python",
   "pygments_lexer": "ipython3",
   "version": "3.12.0"
  }
 },
 "nbformat": 4,
 "nbformat_minor": 5
}
